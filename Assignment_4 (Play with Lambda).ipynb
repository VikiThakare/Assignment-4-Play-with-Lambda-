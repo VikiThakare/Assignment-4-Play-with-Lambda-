{
 "cells": [
  {
   "cell_type": "code",
   "execution_count": 13,
   "id": "0028bcf5",
   "metadata": {},
   "outputs": [
    {
     "name": "stdout",
     "output_type": "stream",
     "text": [
      "sample input:10\n",
      "sample output: 10 + 25 = 35\n"
     ]
    }
   ],
   "source": [
    "number = int(input('sample input:'))\n",
    "function = lambda x : x + 25\n",
    "result = function(number)\n",
    "print('sample output:',f\"{number} + 25 = {result}\")"
   ]
  },
  {
   "cell_type": "code",
   "execution_count": null,
   "id": "04930b93",
   "metadata": {},
   "outputs": [],
   "source": []
  }
 ],
 "metadata": {
  "kernelspec": {
   "display_name": "Python 3 (ipykernel)",
   "language": "python",
   "name": "python3"
  },
  "language_info": {
   "codemirror_mode": {
    "name": "ipython",
    "version": 3
   },
   "file_extension": ".py",
   "mimetype": "text/x-python",
   "name": "python",
   "nbconvert_exporter": "python",
   "pygments_lexer": "ipython3",
   "version": "3.10.9"
  }
 },
 "nbformat": 4,
 "nbformat_minor": 5
}
